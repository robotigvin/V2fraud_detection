{
 "cells": [
  {
   "cell_type": "code",
   "execution_count": 2,
   "metadata": {},
   "outputs": [
    {
     "name": "stdout",
     "output_type": "stream",
     "text": [
      "adding all the data processing code related to fraud detection\n",
      "The sume is:  110\n"
     ]
    }
   ],
   "source": [
    "print('adding all the data processing code related to fraud detection')\n",
    "\n",
    "a = int(input('Enter the 1st number: '))\n",
    "b = int(input('Enter the 2nd number: '))\n",
    "\n",
    "def summer(x,y):\n",
    "    c = x + y\n",
    "    return c\n",
    "\n",
    "print('The sume is: ', summer(a,b))\n",
    "print('This is unwanted code which could case errors too')"
   ]
  }
 ],
 "metadata": {
  "kernelspec": {
   "display_name": "Python 3.10.6 64-bit",
   "language": "python",
   "name": "python3"
  },
  "language_info": {
   "codemirror_mode": {
    "name": "ipython",
    "version": 3
   },
   "file_extension": ".py",
   "mimetype": "text/x-python",
   "name": "python",
   "nbconvert_exporter": "python",
   "pygments_lexer": "ipython3",
   "version": "3.10.6"
  },
  "orig_nbformat": 4,
  "vscode": {
   "interpreter": {
    "hash": "52634da84371cba311ea128a5ea7cdc41ff074b781779e754b270ff9f8153cee"
   }
  }
 },
 "nbformat": 4,
 "nbformat_minor": 2
}
